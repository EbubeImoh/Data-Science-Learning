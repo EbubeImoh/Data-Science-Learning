{
 "cells": [
  {
   "cell_type": "code",
   "execution_count": 8,
   "id": "4218b9a6",
   "metadata": {},
   "outputs": [
    {
     "name": "stdout",
     "output_type": "stream",
     "text": [
      "Enter Size of L: 511\n",
      "431\n",
      "351\n",
      "271\n",
      "191\n",
      "111\n",
      "31\n",
      "11\n",
      " 6 big bags\n",
      " 0 medium bags\n",
      " 1 small bags\n",
      "TotalValue: 370000kr\n"
     ]
    }
   ],
   "source": [
    "Large = 80\n",
    "counterL = 0\n",
    "Medium = 50\n",
    "counterM = 0\n",
    "Small = 20\n",
    "counterS = 0\n",
    "TruckSize = 0\n",
    "while TruckSize < 100:\n",
    "    TruckSize = int(input(\"Enter Size of L: \"))\n",
    "    if TruckSize >= 100:\n",
    "        while TruckSize >= Large:\n",
    "            TruckSize -= Large\n",
    "            counterL += 1\n",
    "            print(TruckSize)\n",
    "            if TruckSize < Large:\n",
    "                while TruckSize >= Medium:\n",
    "                    TruckSize -= Medium\n",
    "                    counterM += 1\n",
    "                    print(TruckSize)\n",
    "            if TruckSize < Medium:\n",
    "                while TruckSize >= Small:\n",
    "                    TruckSize -= Small\n",
    "                    counterS += 1\n",
    "                    print(TruckSize)\n",
    "                    if TruckSize < Small: \n",
    "                        break\n",
    "        break\n",
    "        \n",
    "print(f\" {counterL} big bags\")\n",
    "print(f\" {counterM} medium bags\")\n",
    "print(f\" {counterS} small bags\")  \n",
    "TotalValue = (counterL * 60000) + (counterM * 30000) + (counterS * 10000)\n",
    "print(f\"TotalValue: {TotalValue}kr\")"
   ]
  },
  {
   "cell_type": "code",
   "execution_count": null,
   "id": "83595578",
   "metadata": {},
   "outputs": [],
   "source": []
  }
 ],
 "metadata": {
  "kernelspec": {
   "display_name": "Python 3 (ipykernel)",
   "language": "python",
   "name": "python3"
  },
  "language_info": {
   "codemirror_mode": {
    "name": "ipython",
    "version": 3
   },
   "file_extension": ".py",
   "mimetype": "text/x-python",
   "name": "python",
   "nbconvert_exporter": "python",
   "pygments_lexer": "ipython3",
   "version": "3.10.9"
  }
 },
 "nbformat": 4,
 "nbformat_minor": 5
}
