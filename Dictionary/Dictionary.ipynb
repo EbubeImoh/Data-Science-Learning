{
 "cells": [
  {
   "cell_type": "code",
   "execution_count": 1,
   "id": "a4e5f46e",
   "metadata": {},
   "outputs": [
    {
     "name": "stdout",
     "output_type": "stream",
     "text": [
      "{}\n"
     ]
    }
   ],
   "source": [
    "eng2sp = dict()\n",
    "print(eng2sp)"
   ]
  },
  {
   "cell_type": "code",
   "execution_count": 2,
   "id": "e22d82be",
   "metadata": {},
   "outputs": [],
   "source": [
    "eng2sp['one'] = 'uno'"
   ]
  },
  {
   "cell_type": "code",
   "execution_count": 3,
   "id": "3dac3b68",
   "metadata": {},
   "outputs": [
    {
     "name": "stdout",
     "output_type": "stream",
     "text": [
      "{'one': 'uno'}\n"
     ]
    }
   ],
   "source": [
    "print(eng2sp)"
   ]
  },
  {
   "cell_type": "code",
   "execution_count": 4,
   "id": "411f7a3c",
   "metadata": {},
   "outputs": [
    {
     "name": "stdout",
     "output_type": "stream",
     "text": [
      "{'one': 'uno', 'two': 'dos', 'three': 'tres'}\n"
     ]
    }
   ],
   "source": [
    "eng2sp = {'one': 'uno', 'two': 'dos', 'three': 'tres'}\n",
    "print(eng2sp)"
   ]
  },
  {
   "cell_type": "code",
   "execution_count": 5,
   "id": "1eeb9866",
   "metadata": {},
   "outputs": [
    {
     "name": "stdout",
     "output_type": "stream",
     "text": [
      "dos\n"
     ]
    }
   ],
   "source": [
    "print(eng2sp['two'])"
   ]
  },
  {
   "cell_type": "code",
   "execution_count": 6,
   "id": "4c43746e",
   "metadata": {},
   "outputs": [
    {
     "ename": "SyntaxError",
     "evalue": "incomplete input (877725778.py, line 1)",
     "output_type": "error",
     "traceback": [
      "\u001b[1;36m  Cell \u001b[1;32mIn[6], line 1\u001b[1;36m\u001b[0m\n\u001b[1;33m    print(eng2sp['four']\u001b[0m\n\u001b[1;37m                        ^\u001b[0m\n\u001b[1;31mSyntaxError\u001b[0m\u001b[1;31m:\u001b[0m incomplete input\n"
     ]
    }
   ],
   "source": [
    "print(eng2sp['four']"
   ]
  },
  {
   "cell_type": "code",
   "execution_count": 7,
   "id": "c9da4661",
   "metadata": {},
   "outputs": [
    {
     "data": {
      "text/plain": [
       "3"
      ]
     },
     "execution_count": 7,
     "metadata": {},
     "output_type": "execute_result"
    }
   ],
   "source": [
    "len(eng2sp)"
   ]
  },
  {
   "cell_type": "code",
   "execution_count": 8,
   "id": "d39c80b1",
   "metadata": {},
   "outputs": [
    {
     "data": {
      "text/plain": [
       "True"
      ]
     },
     "execution_count": 8,
     "metadata": {},
     "output_type": "execute_result"
    }
   ],
   "source": [
    "'one' in eng2sp"
   ]
  },
  {
   "cell_type": "code",
   "execution_count": 9,
   "id": "e771b7d3",
   "metadata": {},
   "outputs": [
    {
     "data": {
      "text/plain": [
       "False"
      ]
     },
     "execution_count": 9,
     "metadata": {},
     "output_type": "execute_result"
    }
   ],
   "source": [
    "'uno' in eng2sp"
   ]
  },
  {
   "cell_type": "code",
   "execution_count": 10,
   "id": "f60e4059",
   "metadata": {},
   "outputs": [],
   "source": [
    "vals = list(eng2sp.values())"
   ]
  },
  {
   "cell_type": "code",
   "execution_count": 11,
   "id": "2be8f529",
   "metadata": {},
   "outputs": [
    {
     "data": {
      "text/plain": [
       "True"
      ]
     },
     "execution_count": 11,
     "metadata": {},
     "output_type": "execute_result"
    }
   ],
   "source": [
    " 'uno' in vals"
   ]
  },
  {
   "cell_type": "markdown",
   "id": "fded0fd0",
   "metadata": {},
   "source": [
    "##### Exercise 1: Write a program that reads the words in words.txt and stores them as keys in a dictionary. It doesn’t matter what the values are. Then you can use the in operator as a fast way to check whether a string is in the dictionary."
   ]
  },
  {
   "cell_type": "code",
   "execution_count": 28,
   "id": "68122756",
   "metadata": {},
   "outputs": [],
   "source": [
    "txt = open('words.txt')\n",
    "words = list()\n",
    "dic_wrds = dict()\n",
    "count = 1\n",
    "for i in txt:\n",
    "    nw_txt = i.rstrip()\n",
    "    nw_txt = nw_txt.split()\n",
    "    words.extend(nw_txt)\n",
    "\n",
    "for i in words:\n",
    "    dic_wrds[i] = count\n",
    "    count+=1\n",
    "    \n",
    "valz = list(dic_wrds.values())"
   ]
  },
  {
   "cell_type": "code",
   "execution_count": 27,
   "id": "91379351",
   "metadata": {},
   "outputs": [
    {
     "name": "stdout",
     "output_type": "stream",
     "text": [
      "{'Writing': 1, 'programs': 15, 'or': 3, 'programming': 4, 'is': 115, 'a': 39, 'very': 145, 'creative': 8, 'and': 209, 'rewarding': 10, 'activity': 11, 'You': 12, 'can': 195, 'write': 14, 'for': 16, 'many': 104, 'reasons': 18, 'ranging': 83, 'from': 84, 'making': 21, 'your': 71, 'living': 23, 'to': 180, 'solving': 25, 'difficult': 27, 'data': 28, 'analysis': 29, 'problem': 40, 'having': 32, 'fun': 33, 'helping': 35, 'someone': 36, 'else': 37, 'solve': 38, 'This': 41, 'book': 42, 'assumes': 43, 'that': 204, '{\\\\em': 45, 'everyone}': 46, 'needs': 47, 'know': 57, 'how': 58, 'program': 52, 'once': 55, 'you': 126, 'program,': 60, 'will': 62, 'figure': 63, 'out': 64, 'what': 162, 'want': 67, 'do': 196, 'with': 81, 'newfound': 72, 'skills': 73, 'We': 89, 'are': 198, 'surrounded': 76, 'in': 111, 'our': 184, 'daily': 79, 'lives': 80, 'computers': 194, 'laptops': 85, 'cell': 87, 'phones': 88, 'think': 91, 'of': 202, 'these': 93, 'as': 95, 'personal': 97, 'assistants': 98, 'who': 99, 'take': 101, 'care': 102, 'things': 203, 'on': 183, 'behalf': 185, 'The': 109, 'hardware': 110, 'current-day': 113, 'essentially': 116, 'built': 117, 'continuously': 119, 'ask': 120, 'us': 148, 'the': 200, 'question': 123, 'What': 124, 'would': 164, 'like': 165, 'me': 128, 'next': 169, 'Our': 132, 'fast': 135, 'have': 137, 'vasts': 138, 'amounts': 139, 'memory': 141, 'could': 176, 'be': 144, 'helpful': 146, 'if': 149, 'we': 205, 'only': 151, 'knew': 172, 'language': 174, 'speak': 156, 'explain': 158, 'computer': 179, 'it': 166, 'If': 170, 'this': 173, 'tell': 177, 'tasks': 182, 'were': 187, 'reptitive': 188, 'Interestingly,': 189, 'kinds': 201, 'best': 197, 'often': 199, 'humans': 206, 'find': 207, 'boring': 208, 'mind-numbing': 210}\n"
     ]
    }
   ],
   "source": [
    "print(dic_wrds)"
   ]
  },
  {
   "cell_type": "code",
   "execution_count": 29,
   "id": "ff9d30f1",
   "metadata": {},
   "outputs": [
    {
     "data": {
      "text/plain": [
       "True"
      ]
     },
     "execution_count": 29,
     "metadata": {},
     "output_type": "execute_result"
    }
   ],
   "source": [
    "'Writing' in dic_wrds"
   ]
  },
  {
   "cell_type": "code",
   "execution_count": 32,
   "id": "4c965a02",
   "metadata": {},
   "outputs": [
    {
     "data": {
      "text/plain": [
       "True"
      ]
     },
     "execution_count": 32,
     "metadata": {},
     "output_type": "execute_result"
    }
   ],
   "source": [
    "23 in valz"
   ]
  },
  {
   "cell_type": "code",
   "execution_count": 33,
   "id": "71535fd5",
   "metadata": {},
   "outputs": [
    {
     "data": {
      "text/plain": [
       "126"
      ]
     },
     "execution_count": 33,
     "metadata": {},
     "output_type": "execute_result"
    }
   ],
   "source": [
    "len(dic_wrds)"
   ]
  },
  {
   "cell_type": "markdown",
   "id": "1c3c7673",
   "metadata": {},
   "source": [
    "# Dictionary as a set of counters"
   ]
  },
  {
   "cell_type": "code",
   "execution_count": 35,
   "id": "6eecc3c4",
   "metadata": {},
   "outputs": [
    {
     "name": "stdout",
     "output_type": "stream",
     "text": [
      "{'b': 1, 'r': 2, 'o': 2, 'n': 1, 't': 1, 's': 2, 'a': 1, 'u': 2}\n"
     ]
    }
   ],
   "source": [
    "word = 'brontosaurus'\n",
    "d = dict()\n",
    "for c in word:\n",
    "    if c not in d:\n",
    "        d[c] = 1\n",
    "    else:\n",
    "        d[c] = d[c] + 1\n",
    "print(d)"
   ]
  },
  {
   "cell_type": "markdown",
   "id": "362868d9",
   "metadata": {},
   "source": [
    "# The Get method"
   ]
  },
  {
   "cell_type": "code",
   "execution_count": 37,
   "id": "dd64197c",
   "metadata": {},
   "outputs": [
    {
     "name": "stdout",
     "output_type": "stream",
     "text": [
      "100\n"
     ]
    }
   ],
   "source": [
    "counts = { 'chuck' : 1 , 'annie' : 42, 'jan': 100}\n",
    "print(counts.get('jan',0))"
   ]
  },
  {
   "cell_type": "code",
   "execution_count": 38,
   "id": "1a0da22b",
   "metadata": {},
   "outputs": [
    {
     "name": "stdout",
     "output_type": "stream",
     "text": [
      "0\n"
     ]
    }
   ],
   "source": [
    "print(counts.get('tim',0))"
   ]
  },
  {
   "cell_type": "code",
   "execution_count": 40,
   "id": "3ed8a2f4",
   "metadata": {},
   "outputs": [
    {
     "name": "stdout",
     "output_type": "stream",
     "text": [
      "{'b': 1, 'r': 2, 'o': 2, 'n': 1, 't': 1, 's': 2, 'a': 1, 'u': 2}\n"
     ]
    }
   ],
   "source": [
    "word = 'brontosaurus'\n",
    "d = dict()\n",
    "for i in word:\n",
    "    d[i] = d.get(i,0) + 1\n",
    "print(d)"
   ]
  },
  {
   "cell_type": "markdown",
   "id": "54babde9",
   "metadata": {},
   "source": [
    "# Dictionaries and files"
   ]
  },
  {
   "cell_type": "code",
   "execution_count": 1,
   "id": "1cac417b",
   "metadata": {},
   "outputs": [
    {
     "name": "stdout",
     "output_type": "stream",
     "text": [
      "Enter the file name: jbdofbo\n",
      "File cannot be opened: jbdofbo\n"
     ]
    }
   ],
   "source": [
    "fname = input('Enter the file name: ')\n",
    "try:\n",
    "    fhand = open(fname)\n",
    "except:\n",
    "    print('File cannot be opened:', fname)\n",
    "    exit()\n",
    "try:\n",
    "    counts = dict()\n",
    "    for line in fhand:\n",
    "        words = line.split()\n",
    "        for word in words:\n",
    "            if word not in counts:\n",
    "                counts[word] = 1\n",
    "            else:\n",
    "                counts[word] += 1\n",
    "    print(counts)\n",
    "except NameError:\n",
    "    print(end = '')"
   ]
  },
  {
   "cell_type": "markdown",
   "id": "c140e85a",
   "metadata": {},
   "source": [
    "#  Looping and dictionaries"
   ]
  },
  {
   "cell_type": "code",
   "execution_count": 1,
   "id": "46713a64",
   "metadata": {},
   "outputs": [
    {
     "name": "stdout",
     "output_type": "stream",
     "text": [
      "chuck 1\n",
      "annie 42\n",
      "jan 100\n"
     ]
    }
   ],
   "source": [
    "counts = { 'chuck' : 1 , 'annie' : 42, 'jan': 100}\n",
    "for key in counts:\n",
    "    print(key, counts[key])"
   ]
  },
  {
   "cell_type": "code",
   "execution_count": 2,
   "id": "239e7989",
   "metadata": {},
   "outputs": [
    {
     "name": "stdout",
     "output_type": "stream",
     "text": [
      "annie 42\n",
      "jan 100\n"
     ]
    }
   ],
   "source": [
    "counts = { 'chuck' : 1 , 'annie' : 42, 'jan': 100}\n",
    "for key in counts:\n",
    "    if counts[key] > 10 :\n",
    "        print(key, counts[key])"
   ]
  },
  {
   "cell_type": "code",
   "execution_count": 4,
   "id": "ccec09f0",
   "metadata": {},
   "outputs": [],
   "source": [
    "counts = { 'chuck' : 1 , 'annie' : 42, 'jan': 100}\n",
    "lst = list(counts.keys())"
   ]
  },
  {
   "cell_type": "code",
   "execution_count": 5,
   "id": "3bfae750",
   "metadata": {},
   "outputs": [
    {
     "name": "stdout",
     "output_type": "stream",
     "text": [
      "['chuck', 'annie', 'jan']\n"
     ]
    }
   ],
   "source": [
    "print(lst)"
   ]
  },
  {
   "cell_type": "code",
   "execution_count": 6,
   "id": "f7f6dde9",
   "metadata": {},
   "outputs": [],
   "source": [
    "lst.sort()"
   ]
  },
  {
   "cell_type": "code",
   "execution_count": 7,
   "id": "0956858e",
   "metadata": {},
   "outputs": [
    {
     "name": "stdout",
     "output_type": "stream",
     "text": [
      "annie 42\n",
      "chuck 1\n",
      "jan 100\n"
     ]
    }
   ],
   "source": [
    "for key in lst:\n",
    "    print(key, counts[key])"
   ]
  },
  {
   "cell_type": "markdown",
   "id": "8191e5c9",
   "metadata": {},
   "source": [
    "# Advanced text parsing"
   ]
  },
  {
   "cell_type": "code",
   "execution_count": 8,
   "id": "f36d9c8f",
   "metadata": {},
   "outputs": [
    {
     "data": {
      "text/plain": [
       "'!\"#$%&\\'()*+,-./:;<=>?@[\\\\]^_`{|}~'"
      ]
     },
     "execution_count": 8,
     "metadata": {},
     "output_type": "execute_result"
    }
   ],
   "source": [
    "import string\n",
    "string.punctuation"
   ]
  },
  {
   "cell_type": "code",
   "execution_count": 3,
   "id": "69b72927",
   "metadata": {},
   "outputs": [
    {
     "name": "stdout",
     "output_type": "stream",
     "text": [
      "Enter the name of the file here: words.txt\n",
      "{'writing': 1, 'programs': 2, 'or': 1, 'programming': 1, 'is': 2, 'a': 3, 'very': 2, 'creative': 1, 'and': 5, 'rewarding': 1, 'activity': 1, 'you': 5, 'can': 4, 'write': 1, 'for': 1, 'many': 2, 'reasons': 1, 'ranging': 2, 'from': 2, 'making': 1, 'your': 2, 'living': 1, 'to': 16, 'solving': 1, 'difficult': 1, 'data': 1, 'analysis': 1, 'problem': 2, 'having': 1, 'fun': 1, 'helping': 1, 'someone': 1, 'else': 1, 'solve': 1, 'this': 2, 'book': 1, 'assumes': 1, 'that': 4, 'em': 1, 'everyone': 1, 'needs': 1, 'know': 2, 'how': 2, 'program': 2, 'once': 1, 'will': 1, 'figure': 1, 'out': 1, 'what': 3, 'want': 1, 'do': 5, 'with': 2, 'newfound': 1, 'skills': 1, 'we': 7, 'are': 3, 'surrounded': 1, 'in': 2, 'our': 6, 'daily': 1, 'lives': 1, 'computers': 5, 'laptops': 1, 'cell': 1, 'phones': 1, 'think': 1, 'of': 5, 'these': 1, 'as': 1, 'personal': 1, 'assistants': 1, 'who': 1, 'take': 1, 'care': 1, 'things': 3, 'on': 2, 'behalf': 2, 'the': 7, 'hardware': 1, 'currentday': 1, 'essentially': 1, 'built': 1, 'continuously': 1, 'ask': 1, 'us': 2, 'question': 1, 'would': 2, 'like': 2, 'me': 1, 'next': 2, 'fast': 1, 'have': 1, 'vasts': 1, 'amounts': 1, 'memory': 1, 'could': 2, 'be': 1, 'helpful': 1, 'if': 2, 'only': 1, 'knew': 2, 'language': 2, 'speak': 1, 'explain': 1, 'computer': 2, 'it': 1, 'tell': 1, 'tasks': 1, 'were': 1, 'reptitive': 1, 'interestingly': 1, 'kinds': 2, 'best': 1, 'often': 1, 'humans': 1, 'find': 1, 'boring': 1, 'mindnumbing': 1}\n"
     ]
    }
   ],
   "source": [
    "import string\n",
    "fname = input('Enter the name of the file here: ')\n",
    "\n",
    "try:\n",
    "    fhand = open(fname)\n",
    "except:\n",
    "    print(f'File cannot be opened because {fname} does not exist')\n",
    "    exit()\n",
    "    \n",
    "try:\n",
    "    counts = dict()\n",
    "    for line in fhand:\n",
    "        line = line.rstrip()\n",
    "        line = line.translate(line.maketrans('', '', string.punctuation))\n",
    "        line = line.lower()\n",
    "        words = line.split()\n",
    "        for word in words:\n",
    "            if word not in counts:\n",
    "                counts[word] = 1\n",
    "            else:\n",
    "                counts[word] += 1\n",
    "    print(counts)\n",
    "except:\n",
    "    print(ends='')"
   ]
  },
  {
   "cell_type": "markdown",
   "id": "ad1b818e",
   "metadata": {},
   "source": [
    "##### Exercise 2: Write a program that categorizes each mail message by which day of the week the commit was done. To do this look for lines that start with “From”, then look for the third word and keep a running count of each of the days of the week. At the end of the program print out the contents of your dictionary (order does not matter)."
   ]
  },
  {
   "cell_type": "code",
   "execution_count": 29,
   "id": "2b278911",
   "metadata": {},
   "outputs": [
    {
     "name": "stdout",
     "output_type": "stream",
     "text": [
      "Enter the file name here: mbox-short.txt\n",
      "{'Sat': 1, 'Fri': 20, 'Thu': 6}\n"
     ]
    }
   ],
   "source": [
    "fname = input('Enter the file name here: ')\n",
    "\n",
    "try:\n",
    "    fhand = open(fname)\n",
    "except:\n",
    "    print(f'{fname} does not exist')\n",
    "    exit()\n",
    "\n",
    "days = dict()#list to store the days\n",
    "\n",
    "for line in fhand:\n",
    "    line = line.rstrip()#removes space from rhs\n",
    "    if line.startswith('From '):\n",
    "        day = line.split()[2]#breaks the lines down into words\n",
    "        days[day] = days.get(day, 0) + 1\n",
    "\n",
    "print(days)"
   ]
  },
  {
   "cell_type": "markdown",
   "id": "e33dc2ed",
   "metadata": {},
   "source": [
    "##### Exercise 3: Write a program to read through a mail log, build a histogram using a dictionary to count how many messages have come from each email address, and print the dictionary."
   ]
  },
  {
   "cell_type": "code",
   "execution_count": 30,
   "id": "35ed497a",
   "metadata": {},
   "outputs": [
    {
     "name": "stdout",
     "output_type": "stream",
     "text": [
      "Enter the file name here: mbox-short.txt\n",
      "{'stephen.marquard@uct.ac.za': 4, 'louis@media.berkeley.edu': 6, 'zqian@umich.edu': 8, 'rjlowe@iupui.edu': 4, 'cwen@iupui.edu': 10, 'gsilver@umich.edu': 6, 'wagnermr@iupui.edu': 2, 'antranig@caret.cam.ac.uk': 2, 'gopal.ramasammycook@gmail.com': 2, 'david.horwitz@uct.ac.za': 8, 'ray@media.berkeley.edu': 2}\n"
     ]
    }
   ],
   "source": [
    "fname = input('Enter the file name here: ')\n",
    "\n",
    "try:\n",
    "    fhand = open(fname)\n",
    "except:\n",
    "    print(f'{fname} does not exist')\n",
    "    exit()\n",
    "\n",
    "mails = dict()\n",
    "\n",
    "for line in fhand:\n",
    "    line = line.rstrip()\n",
    "    if line.startswith('From'):\n",
    "        email = line.split()[1]\n",
    "        mails[email] = mails.get(email, 0) + 1\n",
    "\n",
    "        \n",
    "print(mails)     "
   ]
  },
  {
   "cell_type": "markdown",
   "id": "203de462",
   "metadata": {},
   "source": [
    "##### Exercise 4: Add code to the above program to figure out who has the most messages in the file. After all the data has been read and the dictionary has been created, look through the dictionary using a maximum loop (see Chapter 5: Maximum and minimum loops) to find who has the most messages and print how many messages the person has."
   ]
  },
  {
   "cell_type": "code",
   "execution_count": 22,
   "id": "9ab564bd",
   "metadata": {},
   "outputs": [
    {
     "name": "stdout",
     "output_type": "stream",
     "text": [
      "Enter the file name here: mbox-short.txt\n",
      " cwen@iupui.ed 5\n"
     ]
    }
   ],
   "source": [
    "fname = input('Enter the file name here: ')\n",
    "\n",
    "try:\n",
    "    fhand = open(fname)\n",
    "except:\n",
    "    print(f'{fname} does not exist')\n",
    "    exit()\n",
    "\n",
    "counts = dict()\n",
    "mails = list()\n",
    "\n",
    "\n",
    "for line in fhand:\n",
    "    line = line.rstrip()\n",
    "    if line.startswith('From'):\n",
    "        mails.append(line[line.find(' ') : line.find(' ',line.find(' ')+1)])\n",
    "\n",
    "for mail in mails:\n",
    "    if mail not in counts:\n",
    "        counts[mail] = 1\n",
    "    else:\n",
    "        counts[mail] += 1\n",
    "\n",
    "valz = list(counts.values())\n",
    "keyz = list(mails)\n",
    "\n",
    "\n",
    "if counts[i] == max(valz):\n",
    "    print(i, counts[i])"
   ]
  },
  {
   "cell_type": "markdown",
   "id": "b3fc3bdf",
   "metadata": {},
   "source": [
    "##### Exercise 5: This program records the domain name (instead of the address) where the message was sent from instead of who the mail came from (i.e., the whole email address). At the end of the program, print out the contents of your dictionary."
   ]
  },
  {
   "cell_type": "code",
   "execution_count": null,
   "id": "1052bff0",
   "metadata": {},
   "outputs": [],
   "source": []
  },
  {
   "cell_type": "code",
   "execution_count": 32,
   "id": "7beb55bb",
   "metadata": {},
   "outputs": [
    {
     "name": "stdout",
     "output_type": "stream",
     "text": [
      "True\n"
     ]
    }
   ],
   "source": [
    "dict1 = {\"key1\":1, \"key2\":2}\n",
    "dict2 = {\"key2\":2, \"key1\":1}\n",
    "\n",
    "print(dict1 == dict2)"
   ]
  },
  {
   "cell_type": "code",
   "execution_count": 34,
   "id": "40e9591f",
   "metadata": {},
   "outputs": [
    {
     "data": {
      "text/plain": [
       "1"
      ]
     },
     "execution_count": 34,
     "metadata": {},
     "output_type": "execute_result"
    }
   ],
   "source": [
    "dict1.pop(\"key1\")"
   ]
  },
  {
   "cell_type": "code",
   "execution_count": 54,
   "id": "7c8890d1",
   "metadata": {},
   "outputs": [],
   "source": [
    "d = {'foo': 100, 'bar': 200, 'baz': 300}"
   ]
  },
  {
   "cell_type": "code",
   "execution_count": 55,
   "id": "79102199",
   "metadata": {},
   "outputs": [
    {
     "ename": "TypeError",
     "evalue": "unhashable type: 'slice'",
     "output_type": "error",
     "traceback": [
      "\u001b[1;31m---------------------------------------------------------------------------\u001b[0m",
      "\u001b[1;31mTypeError\u001b[0m                                 Traceback (most recent call last)",
      "Cell \u001b[1;32mIn[55], line 1\u001b[0m\n\u001b[1;32m----> 1\u001b[0m \u001b[43md\u001b[49m\u001b[43m[\u001b[49m\u001b[38;5;124;43m'\u001b[39;49m\u001b[38;5;124;43mbar\u001b[39;49m\u001b[38;5;124;43m'\u001b[39;49m\u001b[43m:\u001b[49m\u001b[38;5;124;43m'\u001b[39;49m\u001b[38;5;124;43mbaz\u001b[39;49m\u001b[38;5;124;43m'\u001b[39;49m\u001b[43m]\u001b[49m\n",
      "\u001b[1;31mTypeError\u001b[0m: unhashable type: 'slice'"
     ]
    }
   ],
   "source": [
    "d['bar':'baz']"
   ]
  },
  {
   "cell_type": "code",
   "execution_count": 37,
   "id": "cfa071b0",
   "metadata": {},
   "outputs": [
    {
     "ename": "AttributeError",
     "evalue": "'dict' object has no attribute 'remove'",
     "output_type": "error",
     "traceback": [
      "\u001b[1;31m---------------------------------------------------------------------------\u001b[0m",
      "\u001b[1;31mAttributeError\u001b[0m                            Traceback (most recent call last)",
      "Cell \u001b[1;32mIn[37], line 1\u001b[0m\n\u001b[1;32m----> 1\u001b[0m \u001b[43md\u001b[49m\u001b[38;5;241;43m.\u001b[39;49m\u001b[43mremove\u001b[49m(\u001b[38;5;124m'\u001b[39m\u001b[38;5;124mfoo\u001b[39m\u001b[38;5;124m'\u001b[39m)\n",
      "\u001b[1;31mAttributeError\u001b[0m: 'dict' object has no attribute 'remove'"
     ]
    }
   ],
   "source": [
    "d.remove('foo')"
   ]
  },
  {
   "cell_type": "code",
   "execution_count": 38,
   "id": "59bcdcd5",
   "metadata": {},
   "outputs": [
    {
     "ename": "SyntaxError",
     "evalue": "invalid syntax (3322415305.py, line 1)",
     "output_type": "error",
     "traceback": [
      "\u001b[1;36m  Cell \u001b[1;32mIn[38], line 1\u001b[1;36m\u001b[0m\n\u001b[1;33m    delete d('foo')\u001b[0m\n\u001b[1;37m           ^\u001b[0m\n\u001b[1;31mSyntaxError\u001b[0m\u001b[1;31m:\u001b[0m invalid syntax\n"
     ]
    }
   ],
   "source": [
    "delete d('foo')"
   ]
  },
  {
   "cell_type": "code",
   "execution_count": 39,
   "id": "470356d2",
   "metadata": {},
   "outputs": [
    {
     "data": {
      "text/plain": [
       "100"
      ]
     },
     "execution_count": 39,
     "metadata": {},
     "output_type": "execute_result"
    }
   ],
   "source": [
    "d.pop('foo')"
   ]
  },
  {
   "cell_type": "code",
   "execution_count": 40,
   "id": "875895d6",
   "metadata": {},
   "outputs": [
    {
     "data": {
      "text/plain": [
       "{'bar': 200, 'baz': 300}"
      ]
     },
     "execution_count": 40,
     "metadata": {},
     "output_type": "execute_result"
    }
   ],
   "source": [
    "d"
   ]
  },
  {
   "cell_type": "code",
   "execution_count": 50,
   "id": "1e0a8e87",
   "metadata": {},
   "outputs": [],
   "source": [
    "c = d.copy()"
   ]
  },
  {
   "cell_type": "code",
   "execution_count": 51,
   "id": "7cd9b45b",
   "metadata": {},
   "outputs": [
    {
     "data": {
      "text/plain": [
       "{'bar': 200, 'baz': 300}"
      ]
     },
     "execution_count": 51,
     "metadata": {},
     "output_type": "execute_result"
    }
   ],
   "source": [
    "c"
   ]
  },
  {
   "cell_type": "code",
   "execution_count": 43,
   "id": "49831720",
   "metadata": {},
   "outputs": [],
   "source": [
    "c.clear()"
   ]
  },
  {
   "cell_type": "code",
   "execution_count": 44,
   "id": "0a72f8f8",
   "metadata": {},
   "outputs": [
    {
     "data": {
      "text/plain": [
       "{}"
      ]
     },
     "execution_count": 44,
     "metadata": {},
     "output_type": "execute_result"
    }
   ],
   "source": [
    "c"
   ]
  },
  {
   "cell_type": "code",
   "execution_count": 53,
   "id": "1a7a8965",
   "metadata": {},
   "outputs": [
    {
     "ename": "TypeError",
     "evalue": "unhashable type: 'slice'",
     "output_type": "error",
     "traceback": [
      "\u001b[1;31m---------------------------------------------------------------------------\u001b[0m",
      "\u001b[1;31mTypeError\u001b[0m                                 Traceback (most recent call last)",
      "Cell \u001b[1;32mIn[53], line 1\u001b[0m\n\u001b[1;32m----> 1\u001b[0m \u001b[38;5;28;01mdel\u001b[39;00m c[\u001b[38;5;241m0\u001b[39m:\u001b[38;5;241m2\u001b[39m]\n",
      "\u001b[1;31mTypeError\u001b[0m: unhashable type: 'slice'"
     ]
    }
   ],
   "source": [
    "del c[0:2]"
   ]
  },
  {
   "cell_type": "code",
   "execution_count": null,
   "id": "7f57d473",
   "metadata": {},
   "outputs": [],
   "source": []
  }
 ],
 "metadata": {
  "kernelspec": {
   "display_name": "Python 3 (ipykernel)",
   "language": "python",
   "name": "python3"
  },
  "language_info": {
   "codemirror_mode": {
    "name": "ipython",
    "version": 3
   },
   "file_extension": ".py",
   "mimetype": "text/x-python",
   "name": "python",
   "nbconvert_exporter": "python",
   "pygments_lexer": "ipython3",
   "version": "3.10.9"
  }
 },
 "nbformat": 4,
 "nbformat_minor": 5
}
