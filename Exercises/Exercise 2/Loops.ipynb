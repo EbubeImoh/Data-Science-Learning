{
 "cells": [
  {
   "cell_type": "code",
   "execution_count": 10,
   "id": "084a5cfc",
   "metadata": {},
   "outputs": [
    {
     "name": "stdout",
     "output_type": "stream",
     "text": [
      "Enter a number bwtween 1 and 20: bsvib\n",
      "Enter an Integer\n"
     ]
    }
   ],
   "source": [
    "try:\n",
    "    n = input('Enter a number bwtween 1 and 20: ')\n",
    "    for i in range(1,n+1):\n",
    "        print(i**2)\n",
    "except TypeError:\n",
    "    print('Enter an Integer')\n",
    "  \n"
   ]
  },
  {
   "cell_type": "code",
   "execution_count": null,
   "id": "b98672a6",
   "metadata": {},
   "outputs": [],
   "source": []
  }
 ],
 "metadata": {
  "kernelspec": {
   "display_name": "Python 3 (ipykernel)",
   "language": "python",
   "name": "python3"
  },
  "language_info": {
   "codemirror_mode": {
    "name": "ipython",
    "version": 3
   },
   "file_extension": ".py",
   "mimetype": "text/x-python",
   "name": "python",
   "nbconvert_exporter": "python",
   "pygments_lexer": "ipython3",
   "version": "3.10.9"
  }
 },
 "nbformat": 4,
 "nbformat_minor": 5
}
