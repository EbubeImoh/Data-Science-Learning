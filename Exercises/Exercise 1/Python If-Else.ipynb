{
 "cells": [
  {
   "cell_type": "code",
   "execution_count": 16,
   "id": "209412c1",
   "metadata": {},
   "outputs": [
    {
     "name": "stdout",
     "output_type": "stream",
     "text": [
      "Enter a random positive integer between 1 and 100: 67\n",
      "Weird\n"
     ]
    }
   ],
   "source": [
    "n = int(input(\"Enter a random positive integer between 1 and 100: \"))\n",
    "if n%2 == 1:\n",
    "    print('Weird')\n",
    "if n%2 == 0 and n in list(range(2,6)):\n",
    "    print('Not weird')\n",
    "if n%2 == 0 and n in list(range(6,21)):\n",
    "    print('Weird')\n",
    "if n%2 == 0 and n>20:\n",
    "    print('Not weird')"
   ]
  },
  {
   "cell_type": "code",
   "execution_count": null,
   "id": "0176f2b6",
   "metadata": {},
   "outputs": [],
   "source": []
  }
 ],
 "metadata": {
  "kernelspec": {
   "display_name": "Python 3 (ipykernel)",
   "language": "python",
   "name": "python3"
  },
  "language_info": {
   "codemirror_mode": {
    "name": "ipython",
    "version": 3
   },
   "file_extension": ".py",
   "mimetype": "text/x-python",
   "name": "python",
   "nbconvert_exporter": "python",
   "pygments_lexer": "ipython3",
   "version": "3.10.9"
  }
 },
 "nbformat": 4,
 "nbformat_minor": 5
}
