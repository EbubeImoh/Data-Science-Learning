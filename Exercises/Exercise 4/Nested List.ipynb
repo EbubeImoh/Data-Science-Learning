{
 "cells": [
  {
   "cell_type": "code",
   "execution_count": 130,
   "id": "9c6c2aa2",
   "metadata": {},
   "outputs": [
    {
     "name": "stdout",
     "output_type": "stream",
     "text": [
      "Harry\n",
      "37.21\n",
      "Berry\n",
      "37.21\n",
      "Tina\n",
      "37.2\n",
      "Akriti\n",
      "41\n",
      "Harsh\n",
      "39\n"
     ]
    }
   ],
   "source": [
    "students = [['Harry', 37.21], ['Berry', 37.21], ['Tina', 37.2], ['Akriti', 41], ['Harsh', 39]]\n",
    "stu = dict(students)\n",
    "nl = list()\n",
    "\n",
    "for i in students:\n",
    "    for m in i:\n",
    "        print(m)\n",
    "        \n",
    "for key, value in list(stu.items()):\n",
    "    nl.append((value,key))\n",
    "    \n",
    "nd = dict(nl)\n",
    "keyz = list(nd.keys())\n",
    "\n",
    "def second_small(ls):\n",
    "    smallest = None\n",
    "    for itervar in ls:\n",
    "        if smallest is None or itervar < smallest:\n",
    "            smallest = itervar\n",
    "    ls.remove(smallest)\n",
    "    return min(ls)\n",
    "\n",
    "sec_small = second_small(keyz)\n"
   ]
  },
  {
   "cell_type": "code",
   "execution_count": 131,
   "id": "1895db68",
   "metadata": {},
   "outputs": [
    {
     "name": "stdout",
     "output_type": "stream",
     "text": [
      "Berry\n"
     ]
    }
   ],
   "source": [
    "print(nd[sec_small])"
   ]
  },
  {
   "cell_type": "code",
   "execution_count": null,
   "id": "6bc948e8",
   "metadata": {},
   "outputs": [],
   "source": [
    "if \n",
    "    print(nd[sec_small])"
   ]
  },
  {
   "cell_type": "code",
   "execution_count": 133,
   "id": "8466bf18",
   "metadata": {},
   "outputs": [
    {
     "name": "stdout",
     "output_type": "stream",
     "text": [
      "Berry\n"
     ]
    }
   ],
   "source": [
    "for key, value in list(nd.items()):\n",
    "    if key == sec_small:\n",
    "        print(value)"
   ]
  },
  {
   "cell_type": "code",
   "execution_count": null,
   "id": "bf5bcbae",
   "metadata": {},
   "outputs": [],
   "source": []
  }
 ],
 "metadata": {
  "kernelspec": {
   "display_name": "Python 3 (ipykernel)",
   "language": "python",
   "name": "python3"
  },
  "language_info": {
   "codemirror_mode": {
    "name": "ipython",
    "version": 3
   },
   "file_extension": ".py",
   "mimetype": "text/x-python",
   "name": "python",
   "nbconvert_exporter": "python",
   "pygments_lexer": "ipython3",
   "version": "3.10.9"
  }
 },
 "nbformat": 4,
 "nbformat_minor": 5
}
