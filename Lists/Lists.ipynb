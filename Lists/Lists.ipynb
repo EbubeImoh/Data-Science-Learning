{
 "cells": [
  {
   "cell_type": "markdown",
   "id": "05eb96ad",
   "metadata": {},
   "source": [
    "# Lists"
   ]
  },
  {
   "cell_type": "code",
   "execution_count": 1,
   "id": "f2a43fee",
   "metadata": {},
   "outputs": [
    {
     "name": "stdout",
     "output_type": "stream",
     "text": [
      "['Cheddar', 'Edam', 'Gouda'] [17, 123] []\n"
     ]
    }
   ],
   "source": [
    "cheeses = ['Cheddar', 'Edam', 'Gouda']\n",
    "numbers = [17, 123]\n",
    "empty = []\n",
    "print(cheeses, numbers, empty)"
   ]
  },
  {
   "cell_type": "code",
   "execution_count": 2,
   "id": "88e602a4",
   "metadata": {},
   "outputs": [
    {
     "name": "stdout",
     "output_type": "stream",
     "text": [
      "['spam', 2.0, 5, [10, 20]]\n"
     ]
    }
   ],
   "source": [
    "print(['spam', 2.0, 5, [10, 20]])"
   ]
  },
  {
   "cell_type": "markdown",
   "id": "d25a82e4",
   "metadata": {},
   "source": [
    "# Lists are mutable"
   ]
  },
  {
   "cell_type": "code",
   "execution_count": 3,
   "id": "0bdf9f7e",
   "metadata": {},
   "outputs": [
    {
     "name": "stdout",
     "output_type": "stream",
     "text": [
      "Cheddar\n"
     ]
    }
   ],
   "source": [
    "print(cheeses[0])"
   ]
  },
  {
   "cell_type": "code",
   "execution_count": 13,
   "id": "100a46e2",
   "metadata": {},
   "outputs": [
    {
     "name": "stdout",
     "output_type": "stream",
     "text": [
      "[17, 5]\n"
     ]
    }
   ],
   "source": [
    "numbers = [17, 123]\n",
    "numbers[1] = 5\n",
    "print(numbers)"
   ]
  },
  {
   "cell_type": "code",
   "execution_count": 5,
   "id": "6b4250f2",
   "metadata": {},
   "outputs": [
    {
     "data": {
      "text/plain": [
       "True"
      ]
     },
     "execution_count": 5,
     "metadata": {},
     "output_type": "execute_result"
    }
   ],
   "source": [
    "'Edam' in cheeses"
   ]
  },
  {
   "cell_type": "code",
   "execution_count": 6,
   "id": "ed288d8d",
   "metadata": {},
   "outputs": [
    {
     "data": {
      "text/plain": [
       "False"
      ]
     },
     "execution_count": 6,
     "metadata": {},
     "output_type": "execute_result"
    }
   ],
   "source": [
    "'Brie' in cheeses"
   ]
  },
  {
   "cell_type": "markdown",
   "id": "3e1903dc",
   "metadata": {},
   "source": [
    "# Traversing a list"
   ]
  },
  {
   "cell_type": "code",
   "execution_count": 7,
   "id": "9553abcc",
   "metadata": {},
   "outputs": [
    {
     "name": "stdout",
     "output_type": "stream",
     "text": [
      "Cheddar\n",
      "Edam\n",
      "Gouda\n"
     ]
    }
   ],
   "source": [
    "for cheese in cheeses:\n",
    "    print(cheese)"
   ]
  },
  {
   "cell_type": "code",
   "execution_count": 19,
   "id": "c19acb09",
   "metadata": {},
   "outputs": [
    {
     "name": "stdout",
     "output_type": "stream",
     "text": [
      "[1088, 160] [1088, 320] "
     ]
    }
   ],
   "source": [
    "for i in range(len(numbers)):\n",
    "    numbers[i] = numbers[i] * 2\n",
    "    print(numbers,end=' ')"
   ]
  },
  {
   "cell_type": "markdown",
   "id": "f1add55e",
   "metadata": {},
   "source": [
    "# List Operations"
   ]
  },
  {
   "cell_type": "code",
   "execution_count": 1,
   "id": "abe78368",
   "metadata": {},
   "outputs": [
    {
     "name": "stdout",
     "output_type": "stream",
     "text": [
      "[1, 2, 3, 4, 5, 6]\n"
     ]
    }
   ],
   "source": [
    "a = [1, 2, 3]\n",
    "b = [4, 5, 6]\n",
    "c = a + b\n",
    "print(c)"
   ]
  },
  {
   "cell_type": "code",
   "execution_count": 2,
   "id": "c306350c",
   "metadata": {},
   "outputs": [
    {
     "data": {
      "text/plain": [
       "[0, 0, 0, 0]"
      ]
     },
     "execution_count": 2,
     "metadata": {},
     "output_type": "execute_result"
    }
   ],
   "source": [
    "[0] * 4"
   ]
  },
  {
   "cell_type": "code",
   "execution_count": 3,
   "id": "0ea75437",
   "metadata": {},
   "outputs": [
    {
     "data": {
      "text/plain": [
       "[1, 2, 3, 1, 2, 3, 1, 2, 3]"
      ]
     },
     "execution_count": 3,
     "metadata": {},
     "output_type": "execute_result"
    }
   ],
   "source": [
    "[1, 2, 3] * 3"
   ]
  },
  {
   "cell_type": "markdown",
   "id": "ef66f2e0",
   "metadata": {},
   "source": [
    "# List Slices"
   ]
  },
  {
   "cell_type": "code",
   "execution_count": 4,
   "id": "96030960",
   "metadata": {},
   "outputs": [
    {
     "data": {
      "text/plain": [
       "['b', 'c']"
      ]
     },
     "execution_count": 4,
     "metadata": {},
     "output_type": "execute_result"
    }
   ],
   "source": [
    "t = ['a', 'b', 'c', 'd', 'e', 'f']\n",
    "t[1:3]"
   ]
  },
  {
   "cell_type": "code",
   "execution_count": 5,
   "id": "9a7cf59e",
   "metadata": {},
   "outputs": [
    {
     "data": {
      "text/plain": [
       "['a', 'b', 'c', 'd']"
      ]
     },
     "execution_count": 5,
     "metadata": {},
     "output_type": "execute_result"
    }
   ],
   "source": [
    "t[:4]"
   ]
  },
  {
   "cell_type": "code",
   "execution_count": 6,
   "id": "267c3e70",
   "metadata": {},
   "outputs": [
    {
     "data": {
      "text/plain": [
       "['d', 'e', 'f']"
      ]
     },
     "execution_count": 6,
     "metadata": {},
     "output_type": "execute_result"
    }
   ],
   "source": [
    "t[3:]"
   ]
  },
  {
   "cell_type": "code",
   "execution_count": 7,
   "id": "f4b394cb",
   "metadata": {},
   "outputs": [
    {
     "data": {
      "text/plain": [
       "['a', 'b', 'c', 'd', 'e', 'f']"
      ]
     },
     "execution_count": 7,
     "metadata": {},
     "output_type": "execute_result"
    }
   ],
   "source": [
    " t[:]"
   ]
  },
  {
   "cell_type": "code",
   "execution_count": 8,
   "id": "9b4c8fbb",
   "metadata": {},
   "outputs": [
    {
     "name": "stdout",
     "output_type": "stream",
     "text": [
      "['a', 'x', 'y', 'd', 'e', 'f']\n"
     ]
    }
   ],
   "source": [
    "t = ['a', 'b', 'c', 'd', 'e', 'f']\n",
    "t[1:3] = ['x', 'y']\n",
    "print(t)"
   ]
  },
  {
   "cell_type": "markdown",
   "id": "03772bb5",
   "metadata": {},
   "source": [
    "# List Methods"
   ]
  },
  {
   "cell_type": "code",
   "execution_count": 9,
   "id": "cde6f543",
   "metadata": {},
   "outputs": [
    {
     "name": "stdout",
     "output_type": "stream",
     "text": [
      "['a', 'b', 'c', 'd']\n"
     ]
    }
   ],
   "source": [
    "t = ['a', 'b', 'c']\n",
    "t.append('d')\n",
    "print(t)"
   ]
  },
  {
   "cell_type": "code",
   "execution_count": 12,
   "id": "a7768b9d",
   "metadata": {},
   "outputs": [
    {
     "name": "stdout",
     "output_type": "stream",
     "text": [
      "['a', 'b', 'c', 'd', 'e']\n"
     ]
    }
   ],
   "source": [
    "t1 = ['a', 'b', 'c']\n",
    "t2 = ['d', 'e']\n",
    "t1.extend(t2)\n",
    "print(t1)"
   ]
  },
  {
   "cell_type": "code",
   "execution_count": 14,
   "id": "bfd91fb4",
   "metadata": {},
   "outputs": [
    {
     "name": "stdout",
     "output_type": "stream",
     "text": [
      "['a', 'b', 'c', 'd', 'e']\n"
     ]
    }
   ],
   "source": [
    "t = ['d', 'c', 'e', 'b', 'a']\n",
    "t.sort()\n",
    "print(t)"
   ]
  },
  {
   "cell_type": "markdown",
   "id": "f8eeace9",
   "metadata": {},
   "source": [
    "# Deleting Elements"
   ]
  },
  {
   "cell_type": "code",
   "execution_count": 15,
   "id": "980023df",
   "metadata": {},
   "outputs": [
    {
     "name": "stdout",
     "output_type": "stream",
     "text": [
      "['a', 'c']\n",
      "b\n"
     ]
    }
   ],
   "source": [
    "t = ['a', 'b', 'c']\n",
    "x = t.pop(1)\n",
    "print(t)\n",
    "print(x)"
   ]
  },
  {
   "cell_type": "code",
   "execution_count": 16,
   "id": "6b0c5a05",
   "metadata": {},
   "outputs": [
    {
     "name": "stdout",
     "output_type": "stream",
     "text": [
      "['a', 'c']\n"
     ]
    }
   ],
   "source": [
    "t = ['a', 'b', 'c']\n",
    "t.remove('b')\n",
    "print(t)"
   ]
  },
  {
   "cell_type": "code",
   "execution_count": 17,
   "id": "6fe1fbf7",
   "metadata": {},
   "outputs": [
    {
     "name": "stdout",
     "output_type": "stream",
     "text": [
      "['a', 'f']\n"
     ]
    }
   ],
   "source": [
    "t = ['a', 'b', 'c', 'd', 'e', 'f']\n",
    "del t[1:5]\n",
    "print(t)"
   ]
  },
  {
   "cell_type": "markdown",
   "id": "ff293d5b",
   "metadata": {},
   "source": [
    "# Lists and Functions"
   ]
  },
  {
   "cell_type": "code",
   "execution_count": 18,
   "id": "1e1c5ac5",
   "metadata": {},
   "outputs": [],
   "source": [
    "nums = [3, 41, 12, 9, 74, 15]"
   ]
  },
  {
   "cell_type": "code",
   "execution_count": 20,
   "id": "258c19b8",
   "metadata": {},
   "outputs": [
    {
     "name": "stdout",
     "output_type": "stream",
     "text": [
      "6\n"
     ]
    }
   ],
   "source": [
    "print(len(nums))"
   ]
  },
  {
   "cell_type": "code",
   "execution_count": 21,
   "id": "37c404af",
   "metadata": {},
   "outputs": [
    {
     "name": "stdout",
     "output_type": "stream",
     "text": [
      "74\n"
     ]
    }
   ],
   "source": [
    "print(max(nums))"
   ]
  },
  {
   "cell_type": "code",
   "execution_count": 22,
   "id": "cfafaf23",
   "metadata": {},
   "outputs": [
    {
     "name": "stdout",
     "output_type": "stream",
     "text": [
      "3\n"
     ]
    }
   ],
   "source": [
    "print(min(nums))"
   ]
  },
  {
   "cell_type": "code",
   "execution_count": 23,
   "id": "2712d238",
   "metadata": {},
   "outputs": [
    {
     "name": "stdout",
     "output_type": "stream",
     "text": [
      "154\n"
     ]
    }
   ],
   "source": [
    "print(sum(nums))"
   ]
  },
  {
   "cell_type": "code",
   "execution_count": 29,
   "id": "ecaa74fd",
   "metadata": {},
   "outputs": [
    {
     "name": "stdout",
     "output_type": "stream",
     "text": [
      "26\n"
     ]
    }
   ],
   "source": [
    "print(round(sum(nums)/len(nums)))"
   ]
  },
  {
   "cell_type": "markdown",
   "id": "a7e4adb5",
   "metadata": {},
   "source": [
    "# List and Strings"
   ]
  },
  {
   "cell_type": "code",
   "execution_count": 30,
   "id": "b15d81c0",
   "metadata": {},
   "outputs": [
    {
     "name": "stdout",
     "output_type": "stream",
     "text": [
      "['s', 'p', 'a', 'm']\n"
     ]
    }
   ],
   "source": [
    "s = 'spam'\n",
    "t = list(s)\n",
    "print(t)"
   ]
  },
  {
   "cell_type": "code",
   "execution_count": 31,
   "id": "a04f310a",
   "metadata": {},
   "outputs": [
    {
     "name": "stdout",
     "output_type": "stream",
     "text": [
      "['pining', 'for', 'the', 'fjords']\n"
     ]
    }
   ],
   "source": [
    "s = 'pining for the fjords'\n",
    "t = s.split()\n",
    "print(t)"
   ]
  },
  {
   "cell_type": "code",
   "execution_count": 32,
   "id": "c5ba2790",
   "metadata": {},
   "outputs": [
    {
     "name": "stdout",
     "output_type": "stream",
     "text": [
      "the\n"
     ]
    }
   ],
   "source": [
    "print(t[2])"
   ]
  },
  {
   "cell_type": "code",
   "execution_count": 34,
   "id": "fdf08ae7",
   "metadata": {},
   "outputs": [
    {
     "data": {
      "text/plain": [
       "['spam', 'spam', 'spam']"
      ]
     },
     "execution_count": 34,
     "metadata": {},
     "output_type": "execute_result"
    }
   ],
   "source": [
    "s = 'spam-spam-spam'\n",
    "delimiter = '-'\n",
    "s.split(delimiter)"
   ]
  },
  {
   "cell_type": "code",
   "execution_count": 35,
   "id": "c2037eec",
   "metadata": {},
   "outputs": [
    {
     "data": {
      "text/plain": [
       "'pining for the fjords'"
      ]
     },
     "execution_count": 35,
     "metadata": {},
     "output_type": "execute_result"
    }
   ],
   "source": [
    "t = ['pining', 'for', 'the', 'fjords']\n",
    "delimiter = ' '\n",
    "delimiter.join(t)"
   ]
  },
  {
   "cell_type": "markdown",
   "id": "8263cba1",
   "metadata": {},
   "source": [
    "##### Write a code that collects a character from the user, m = [somto, elizabeth, micheal, Daniel, solomon, chika, nonso], use the input from the user to seperate them and form a string."
   ]
  },
  {
   "cell_type": "code",
   "execution_count": 50,
   "id": "0604f1bd",
   "metadata": {},
   "outputs": [
    {
     "ename": "KeyboardInterrupt",
     "evalue": "Interrupted by user",
     "output_type": "error",
     "traceback": [
      "\u001b[1;31m---------------------------------------------------------------------------\u001b[0m",
      "\u001b[1;31mKeyboardInterrupt\u001b[0m                         Traceback (most recent call last)",
      "Cell \u001b[1;32mIn[50], line 4\u001b[0m\n\u001b[0;32m      2\u001b[0m n \u001b[38;5;241m=\u001b[39m \u001b[38;5;28mlist\u001b[39m()\n\u001b[0;32m      3\u001b[0m \u001b[38;5;28;01mfor\u001b[39;00m i \u001b[38;5;129;01min\u001b[39;00m \u001b[38;5;28mrange\u001b[39m(\u001b[38;5;28mlen\u001b[39m(m)):\n\u001b[1;32m----> 4\u001b[0m     lis \u001b[38;5;241m=\u001b[39m \u001b[38;5;28;43minput\u001b[39;49m\u001b[43m(\u001b[49m\u001b[38;5;124;43m'\u001b[39;49m\u001b[38;5;124;43mEnter any symbol \u001b[39;49m\u001b[38;5;124;43m{\u001b[39;49m\u001b[38;5;124;43m*, /, -, +}: \u001b[39;49m\u001b[38;5;124;43m'\u001b[39;49m\u001b[43m)\u001b[49m\n\u001b[0;32m      5\u001b[0m     \u001b[38;5;28;01mif\u001b[39;00m lis \u001b[38;5;129;01mnot\u001b[39;00m \u001b[38;5;129;01min\u001b[39;00m [\u001b[38;5;124m'\u001b[39m\u001b[38;5;124m*\u001b[39m\u001b[38;5;124m'\u001b[39m, \u001b[38;5;124m'\u001b[39m\u001b[38;5;124m/\u001b[39m\u001b[38;5;124m'\u001b[39m, \u001b[38;5;124m'\u001b[39m\u001b[38;5;124m-\u001b[39m\u001b[38;5;124m'\u001b[39m, \u001b[38;5;124m'\u001b[39m\u001b[38;5;124m+\u001b[39m\u001b[38;5;124m'\u001b[39m]:\u001b[38;5;28;01mcontinue\u001b[39;00m\n\u001b[0;32m      6\u001b[0m     n\u001b[38;5;241m.\u001b[39mappend(m[count])\n",
      "File \u001b[1;32m~\\anaconda3\\lib\\site-packages\\ipykernel\\kernelbase.py:1175\u001b[0m, in \u001b[0;36mKernel.raw_input\u001b[1;34m(self, prompt)\u001b[0m\n\u001b[0;32m   1171\u001b[0m \u001b[38;5;28;01mif\u001b[39;00m \u001b[38;5;129;01mnot\u001b[39;00m \u001b[38;5;28mself\u001b[39m\u001b[38;5;241m.\u001b[39m_allow_stdin:\n\u001b[0;32m   1172\u001b[0m     \u001b[38;5;28;01mraise\u001b[39;00m StdinNotImplementedError(\n\u001b[0;32m   1173\u001b[0m         \u001b[38;5;124m\"\u001b[39m\u001b[38;5;124mraw_input was called, but this frontend does not support input requests.\u001b[39m\u001b[38;5;124m\"\u001b[39m\n\u001b[0;32m   1174\u001b[0m     )\n\u001b[1;32m-> 1175\u001b[0m \u001b[38;5;28;01mreturn\u001b[39;00m \u001b[38;5;28;43mself\u001b[39;49m\u001b[38;5;241;43m.\u001b[39;49m\u001b[43m_input_request\u001b[49m\u001b[43m(\u001b[49m\n\u001b[0;32m   1176\u001b[0m \u001b[43m    \u001b[49m\u001b[38;5;28;43mstr\u001b[39;49m\u001b[43m(\u001b[49m\u001b[43mprompt\u001b[49m\u001b[43m)\u001b[49m\u001b[43m,\u001b[49m\n\u001b[0;32m   1177\u001b[0m \u001b[43m    \u001b[49m\u001b[38;5;28;43mself\u001b[39;49m\u001b[38;5;241;43m.\u001b[39;49m\u001b[43m_parent_ident\u001b[49m\u001b[43m[\u001b[49m\u001b[38;5;124;43m\"\u001b[39;49m\u001b[38;5;124;43mshell\u001b[39;49m\u001b[38;5;124;43m\"\u001b[39;49m\u001b[43m]\u001b[49m\u001b[43m,\u001b[49m\n\u001b[0;32m   1178\u001b[0m \u001b[43m    \u001b[49m\u001b[38;5;28;43mself\u001b[39;49m\u001b[38;5;241;43m.\u001b[39;49m\u001b[43mget_parent\u001b[49m\u001b[43m(\u001b[49m\u001b[38;5;124;43m\"\u001b[39;49m\u001b[38;5;124;43mshell\u001b[39;49m\u001b[38;5;124;43m\"\u001b[39;49m\u001b[43m)\u001b[49m\u001b[43m,\u001b[49m\n\u001b[0;32m   1179\u001b[0m \u001b[43m    \u001b[49m\u001b[43mpassword\u001b[49m\u001b[38;5;241;43m=\u001b[39;49m\u001b[38;5;28;43;01mFalse\u001b[39;49;00m\u001b[43m,\u001b[49m\n\u001b[0;32m   1180\u001b[0m \u001b[43m\u001b[49m\u001b[43m)\u001b[49m\n",
      "File \u001b[1;32m~\\anaconda3\\lib\\site-packages\\ipykernel\\kernelbase.py:1217\u001b[0m, in \u001b[0;36mKernel._input_request\u001b[1;34m(self, prompt, ident, parent, password)\u001b[0m\n\u001b[0;32m   1214\u001b[0m             \u001b[38;5;28;01mbreak\u001b[39;00m\n\u001b[0;32m   1215\u001b[0m \u001b[38;5;28;01mexcept\u001b[39;00m \u001b[38;5;167;01mKeyboardInterrupt\u001b[39;00m:\n\u001b[0;32m   1216\u001b[0m     \u001b[38;5;66;03m# re-raise KeyboardInterrupt, to truncate traceback\u001b[39;00m\n\u001b[1;32m-> 1217\u001b[0m     \u001b[38;5;28;01mraise\u001b[39;00m \u001b[38;5;167;01mKeyboardInterrupt\u001b[39;00m(\u001b[38;5;124m\"\u001b[39m\u001b[38;5;124mInterrupted by user\u001b[39m\u001b[38;5;124m\"\u001b[39m) \u001b[38;5;28;01mfrom\u001b[39;00m \u001b[38;5;28mNone\u001b[39m\n\u001b[0;32m   1218\u001b[0m \u001b[38;5;28;01mexcept\u001b[39;00m \u001b[38;5;167;01mException\u001b[39;00m:\n\u001b[0;32m   1219\u001b[0m     \u001b[38;5;28mself\u001b[39m\u001b[38;5;241m.\u001b[39mlog\u001b[38;5;241m.\u001b[39mwarning(\u001b[38;5;124m\"\u001b[39m\u001b[38;5;124mInvalid Message:\u001b[39m\u001b[38;5;124m\"\u001b[39m, exc_info\u001b[38;5;241m=\u001b[39m\u001b[38;5;28;01mTrue\u001b[39;00m)\n",
      "\u001b[1;31mKeyboardInterrupt\u001b[0m: Interrupted by user"
     ]
    }
   ],
   "source": [
    "m = ['somto', 'elizabeth', 'micheal', 'Daniel', 'solomon', 'chika', 'nonso']\n",
    "n = list()\n",
    "for i in range(len(m)):\n",
    "    lis = input('Enter any symbol {*, /, -, +}: ')\n",
    "    if lis not in ['*', '/', '-', '+']:continue\n",
    "    n.append(m[count])\n",
    "    n.append(lis)\n",
    "print(f'This is the new list {n}')"
   ]
  },
  {
   "cell_type": "markdown",
   "id": "2806832d",
   "metadata": {},
   "source": [
    "# Parsing Lines"
   ]
  },
  {
   "cell_type": "code",
   "execution_count": 54,
   "id": "0d7f7c95",
   "metadata": {},
   "outputs": [
    {
     "name": "stdout",
     "output_type": "stream",
     "text": [
      "Sat\n",
      "Fri\n",
      "Fri\n",
      "Fri\n",
      "Fri\n",
      "Fri\n",
      "Fri\n",
      "Fri\n",
      "Fri\n",
      "Fri\n",
      "Fri\n",
      "Fri\n",
      "Fri\n",
      "Fri\n",
      "Fri\n",
      "Fri\n",
      "Fri\n",
      "Fri\n",
      "Fri\n",
      "Fri\n",
      "Fri\n",
      "Thu\n",
      "Thu\n",
      "Thu\n",
      "Thu\n",
      "Thu\n",
      "Thu\n"
     ]
    }
   ],
   "source": [
    "fhand = open('mbox-short.txt')\n",
    "for line in fhand:\n",
    "    line = line.rstrip()\n",
    "    if not line.startswith('From '): continue\n",
    "    words = line.split()\n",
    "    print(words[2])"
   ]
  },
  {
   "cell_type": "markdown",
   "id": "cc08ac16",
   "metadata": {},
   "source": [
    "##### Exercise 1: Write a function called chop that takes a list and modifies it, removing the first and last elements, and returns None. Then write a function called middle that takes a list and returns a new list that contains all but the first and last elements."
   ]
  },
  {
   "cell_type": "code",
   "execution_count": 19,
   "id": "2bd94a40",
   "metadata": {},
   "outputs": [],
   "source": [
    "def chop(lst):\n",
    "    lst.pop(0)\n",
    "    lst.pop(len(lst) - 1)"
   ]
  },
  {
   "cell_type": "code",
   "execution_count": 20,
   "id": "f3f6894b",
   "metadata": {},
   "outputs": [],
   "source": [
    "cars = ['Mercedes Benz', 'Toyota', 'Nissan', 'Peugeot', 'Acura', 'Ford', 'Range Rover', 'Rolls Royce', 'Volks Waggon']"
   ]
  },
  {
   "cell_type": "code",
   "execution_count": 21,
   "id": "5990f2d6",
   "metadata": {},
   "outputs": [
    {
     "name": "stdout",
     "output_type": "stream",
     "text": [
      "['Mercedes Benz', 'Toyota', 'Nissan', 'Peugeot', 'Acura', 'Ford', 'Range Rover', 'Rolls Royce', 'Volks Waggon']\n"
     ]
    }
   ],
   "source": [
    "print(cars)"
   ]
  },
  {
   "cell_type": "code",
   "execution_count": 22,
   "id": "5adeb7c1",
   "metadata": {},
   "outputs": [],
   "source": [
    "chop(cars)"
   ]
  },
  {
   "cell_type": "code",
   "execution_count": 23,
   "id": "2eb25f4b",
   "metadata": {},
   "outputs": [
    {
     "name": "stdout",
     "output_type": "stream",
     "text": [
      "['Toyota', 'Nissan', 'Peugeot', 'Acura', 'Ford', 'Range Rover', 'Rolls Royce']\n"
     ]
    }
   ],
   "source": [
    "print(cars)"
   ]
  },
  {
   "cell_type": "markdown",
   "id": "8075a329",
   "metadata": {},
   "source": [
    "##### The second part"
   ]
  },
  {
   "cell_type": "code",
   "execution_count": 24,
   "id": "b6360367",
   "metadata": {},
   "outputs": [],
   "source": [
    "def middle(ls):\n",
    "    ls.remove(ls[0])\n",
    "    ls.remove(ls[len(ls)-1])\n",
    "    return ls"
   ]
  },
  {
   "cell_type": "code",
   "execution_count": 25,
   "id": "e2d4dc45",
   "metadata": {},
   "outputs": [],
   "source": [
    "new_ls = middle(cars)"
   ]
  },
  {
   "cell_type": "code",
   "execution_count": 26,
   "id": "62b85f4a",
   "metadata": {
    "scrolled": true
   },
   "outputs": [
    {
     "name": "stdout",
     "output_type": "stream",
     "text": [
      "['Nissan', 'Peugeot', 'Acura', 'Ford', 'Range Rover']\n"
     ]
    }
   ],
   "source": [
    "print(new_ls)"
   ]
  },
  {
   "cell_type": "markdown",
   "id": "3020a869",
   "metadata": {},
   "source": [
    "fhand = open('mbox-short.txt')\n",
    "count = 0\n",
    "for line in fhand:\n",
    "    words = line.split()\n",
    "    # print('Debug:', words)\n",
    "    if len(words) == 0 : continue\n",
    "    if words[0] != 'From' : continue\n",
    "    print(words[2])"
   ]
  },
  {
   "cell_type": "markdown",
   "id": "62bb9290",
   "metadata": {},
   "source": [
    "##### Exercise 2: Figure out which line of the above program is still not properly guarded. See if you can construct a text file which causes the program to fail and then modify the program so that the line is properly guarded and test it to make sure it handles your new text file."
   ]
  },
  {
   "cell_type": "code",
   "execution_count": 18,
   "id": "9bca15ff",
   "metadata": {},
   "outputs": [
    {
     "name": "stdout",
     "output_type": "stream",
     "text": [
      "Somto\n",
      "Samuel\n",
      "Chioma\n",
      "Sam\n",
      "Micheal\n",
      "David\n",
      "Anne\n",
      "Chinwe\n",
      "Muna\n",
      "Uzo\n",
      "Somto\n",
      "Samuel\n",
      "Chioma\n",
      "Sam\n",
      "Micheal\n",
      "David\n",
      "Anne\n",
      "Chinwe\n",
      "Muna\n",
      "Uzo\n",
      "Somto\n",
      "Samuel\n",
      "Chioma\n",
      "Sam\n",
      "Micheal\n",
      "David\n",
      "Anne\n",
      "Chinwe\n",
      "Muna\n",
      "Uzo\n",
      "Somto\n",
      "Samuel\n",
      "Chioma\n",
      "Sam\n",
      "Micheal\n",
      "David\n",
      "Anne\n",
      "Chinwe\n",
      "Muna\n",
      "Uzo\n"
     ]
    }
   ],
   "source": [
    "fhand = open('names.txt')\n",
    "# count = 0\n",
    "for line in fhand:\n",
    "    line = line.rstrip()\n",
    "    words = line.split()\n",
    "    # print('Debug:', words)\n",
    "    if not line.startswith('My '): continue\n",
    "    print(words[3])"
   ]
  },
  {
   "cell_type": "markdown",
   "id": "a4f41d2e",
   "metadata": {},
   "source": [
    "##### Exercise 3: Rewrite the guardian code in the above example without two if statements. Instead, use a compound logical expression using the or logical operator with a single if statement."
   ]
  },
  {
   "cell_type": "code",
   "execution_count": 20,
   "id": "6527d951",
   "metadata": {},
   "outputs": [
    {
     "name": "stdout",
     "output_type": "stream",
     "text": [
      "Somto\n",
      "Samuel\n",
      "Chioma\n",
      "Sam\n",
      "Micheal\n",
      "David\n",
      "Anne\n",
      "Chinwe\n",
      "Muna\n",
      "Uzo\n",
      "Somto\n",
      "Samuel\n",
      "Chioma\n",
      "Sam\n",
      "Micheal\n",
      "David\n",
      "Anne\n",
      "Chinwe\n",
      "Muna\n",
      "Uzo\n",
      "Somto\n",
      "Samuel\n",
      "Chioma\n",
      "Sam\n",
      "Micheal\n",
      "David\n",
      "Anne\n",
      "Chinwe\n",
      "Muna\n",
      "Uzo\n",
      "Somto\n",
      "Samuel\n",
      "Chioma\n",
      "Sam\n",
      "Micheal\n",
      "David\n",
      "Anne\n",
      "Chinwe\n",
      "Muna\n",
      "Uzo\n"
     ]
    }
   ],
   "source": [
    "fhand = open('names.txt')\n",
    "for line in fhand:\n",
    "    words = line.split()\n",
    "    if len(words) == 0 or words[0] != 'My' : continue\n",
    "    print(words[3])"
   ]
  },
  {
   "cell_type": "markdown",
   "id": "08e5f1f8",
   "metadata": {},
   "source": [
    "##### Exercise 4: Find all unique words in a file Shakespeare used over 20,000 words in his works. But how would you determine that? How would you produce the list of all the words that Shakespeare used? Would you download all his work, read it and track all unique words by hand? Let’s use Python to achieve that instead. List all unique words, sorted in alphabetical order, that are stored in a file romeo.txt containing a subset of Shakespeare’s work. To get started, download a copy of the file www.py4e.com/code3/romeo.txt. Create a list of unique words, which will contain the final result. Write a program to open the file romeo.txt and read it line by line. For each line, split the line into a list of words using the split function. For each word, check to see if the word is already in the list of unique words. If the word is not in the list of unique words, add it to the list. When the program completes, sort and print the list of unique words in alphabetical order."
   ]
  },
  {
   "cell_type": "code",
   "execution_count": 87,
   "id": "e54cc4f6",
   "metadata": {},
   "outputs": [
    {
     "name": "stdout",
     "output_type": "stream",
     "text": [
      "['Arise', 'But', 'It', 'Juliet', 'Who', 'already', 'and', 'breaks', 'east', 'envious', 'fair', 'grief', 'is', 'kill', 'light', 'moon', 'pale', 'sick', 'soft', 'sun', 'the', 'through', 'what', 'window', 'with', 'yonder']\n"
     ]
    }
   ],
   "source": [
    "fh = open('romeo.txt')\n",
    "new_list = []\n",
    "\n",
    "for i in fh:\n",
    "    lines = i.rstrip()\n",
    "    words = lines.split()\n",
    "    new_list.append(words)\n",
    "    \n",
    "sorted_list = []\n",
    "for i in new_list:\n",
    "    m.extend(i)\n",
    "    \n",
    "for n in m:\n",
    "    if n not in sorted_list:\n",
    "        sorted_list.append(n)\n",
    "        \n",
    "sorted_list.sort()\n",
    "print(sorted_list)"
   ]
  },
  {
   "cell_type": "markdown",
   "id": "bce3922f",
   "metadata": {},
   "source": [
    "##### Exercise 5: Minimalist Email Client. MBOX (mail box) is a popular file format to store and share a collection of emails. This was used by early email servers and desktop apps. Without getting into too many details, MBOX is a text file, which stores emails consecutively. Emails are separated by a special line which starts with From (notice the space). Importantly, lines starting with From: (notice the colon) describes the email itself and does not act as a separator. Imagine you wrote a minimalist email app, that lists the email of the senders in the user’s Inbox and counts the number of emails. \n",
    "##### Write a program to read through the mail box data and when you find line that starts with “From”, you will split the line into words using the split function. We are interested in who sent the message, which is the second word on the From line."
   ]
  },
  {
   "cell_type": "code",
   "execution_count": 109,
   "id": "3b4c0674",
   "metadata": {},
   "outputs": [
    {
     "name": "stdout",
     "output_type": "stream",
     "text": [
      " stephen.marquard@uct.ac.za\n",
      " stephen.marquard@uct.ac.z\n",
      " louis@media.berkeley.edu\n",
      " louis@media.berkeley.ed\n",
      " zqian@umich.edu\n",
      " zqian@umich.ed\n",
      " rjlowe@iupui.edu\n",
      " rjlowe@iupui.ed\n",
      " zqian@umich.edu\n",
      " zqian@umich.ed\n",
      " rjlowe@iupui.edu\n",
      " rjlowe@iupui.ed\n",
      " cwen@iupui.edu\n",
      " cwen@iupui.ed\n",
      " cwen@iupui.edu\n",
      " cwen@iupui.ed\n",
      " gsilver@umich.edu\n",
      " gsilver@umich.ed\n",
      " gsilver@umich.edu\n",
      " gsilver@umich.ed\n",
      " zqian@umich.edu\n",
      " zqian@umich.ed\n",
      " gsilver@umich.edu\n",
      " gsilver@umich.ed\n",
      " wagnermr@iupui.edu\n",
      " wagnermr@iupui.ed\n",
      " zqian@umich.edu\n",
      " zqian@umich.ed\n",
      " antranig@caret.cam.ac.uk\n",
      " antranig@caret.cam.ac.u\n",
      " gopal.ramasammycook@gmail.com\n",
      " gopal.ramasammycook@gmail.co\n",
      " david.horwitz@uct.ac.za\n",
      " david.horwitz@uct.ac.z\n",
      " david.horwitz@uct.ac.za\n",
      " david.horwitz@uct.ac.z\n",
      " david.horwitz@uct.ac.za\n",
      " david.horwitz@uct.ac.z\n",
      " david.horwitz@uct.ac.za\n",
      " david.horwitz@uct.ac.z\n",
      " stephen.marquard@uct.ac.za\n",
      " stephen.marquard@uct.ac.z\n",
      " louis@media.berkeley.edu\n",
      " louis@media.berkeley.ed\n",
      " louis@media.berkeley.edu\n",
      " louis@media.berkeley.ed\n",
      " ray@media.berkeley.edu\n",
      " ray@media.berkeley.ed\n",
      " cwen@iupui.edu\n",
      " cwen@iupui.ed\n",
      " cwen@iupui.edu\n",
      " cwen@iupui.ed\n",
      " cwen@iupui.edu\n",
      " cwen@iupui.ed\n",
      "27\n"
     ]
    }
   ],
   "source": [
    "fhand = open('mbox-short.txt')\n",
    "count = 0\n",
    "for line in fhand:\n",
    "    line = line.rstrip()\n",
    "    if line.startswith('From:') or line.startswith('From'):\n",
    "        print(line[line.find(' ') : line.find(' ',line.find(' ')+1)])\n",
    "    if line.startswith('From') and not line.startswith('From:'):\n",
    "        count+=1\n",
    "print(count)        "
   ]
  },
  {
   "cell_type": "markdown",
   "id": "463a38f1",
   "metadata": {},
   "source": [
    "##### Exercise 6: Rewrite the program that prompts the user for a list of numbers and prints out the maximum and minimum of the numbers at the end when the user enters “done”. Write the program to store the numbers the user enters in a list and use the max() and min() functions to compute the maximum and minimum numbers after the loop completes."
   ]
  },
  {
   "cell_type": "code",
   "execution_count": 8,
   "id": "d2b5431f",
   "metadata": {},
   "outputs": [
    {
     "name": "stdout",
     "output_type": "stream",
     "text": [
      "Enter a number(Or 'done' to exit): 1\n",
      "Enter a number(Or 'done' to exit): 2\n",
      "Enter a number(Or 'done' to exit): 3\n",
      "Enter a number(Or 'done' to exit): 4\n",
      "Enter a number(Or 'done' to exit): man\n",
      "Enter a number(Or 'done' to exit): woman\n",
      "Enter a number(Or 'done' to exit): 5\n",
      "Enter a number(Or 'done' to exit): 6\n",
      "Enter a number(Or 'done' to exit): 7\n",
      "Enter a number(Or 'done' to exit): child\n",
      "Enter a number(Or 'done' to exit): 8\n",
      "Enter a number(Or 'done' to exit): 9\n",
      "Enter a number(Or 'done' to exit): 10\n",
      "Enter a number(Or 'done' to exit): done\n",
      "Maximum: 10\n",
      "Minimum: 1\n"
     ]
    }
   ],
   "source": [
    "det = True\n",
    "num_list = list()\n",
    "while det == True:\n",
    "    num = input(\"Enter a number(Or 'done' to exit): \")\n",
    "    if num == 'done':\n",
    "        det = False\n",
    "    if num.isdigit():\n",
    "        num_list.append(int(num))\n",
    "    else:\n",
    "        continue\n",
    "print(f'Maximum: {max(num_list)}')\n",
    "print(f'Minimum: {min(num_list)}')"
   ]
  },
  {
   "cell_type": "code",
   "execution_count": 18,
   "id": "6fe0f093",
   "metadata": {},
   "outputs": [],
   "source": [
    "intg = [1,2,3,4]"
   ]
  },
  {
   "cell_type": "code",
   "execution_count": 21,
   "id": "efe125d8",
   "metadata": {},
   "outputs": [],
   "source": [
    "new = list(intg)"
   ]
  },
  {
   "cell_type": "code",
   "execution_count": 22,
   "id": "cd929cdc",
   "metadata": {},
   "outputs": [
    {
     "data": {
      "text/plain": [
       "[1, 2, 3, 4]"
      ]
     },
     "execution_count": 22,
     "metadata": {},
     "output_type": "execute_result"
    }
   ],
   "source": [
    "new"
   ]
  },
  {
   "cell_type": "code",
   "execution_count": null,
   "id": "89e4ae3a",
   "metadata": {},
   "outputs": [],
   "source": []
  }
 ],
 "metadata": {
  "kernelspec": {
   "display_name": "Python 3 (ipykernel)",
   "language": "python",
   "name": "python3"
  },
  "language_info": {
   "codemirror_mode": {
    "name": "ipython",
    "version": 3
   },
   "file_extension": ".py",
   "mimetype": "text/x-python",
   "name": "python",
   "nbconvert_exporter": "python",
   "pygments_lexer": "ipython3",
   "version": "3.10.9"
  }
 },
 "nbformat": 4,
 "nbformat_minor": 5
}
