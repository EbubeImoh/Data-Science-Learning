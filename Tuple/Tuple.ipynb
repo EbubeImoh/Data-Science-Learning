{
 "cells": [
  {
   "cell_type": "markdown",
   "id": "c17ee0cb",
   "metadata": {},
   "source": [
    "# Tuples"
   ]
  },
  {
   "cell_type": "code",
   "execution_count": 1,
   "id": "7163077a",
   "metadata": {},
   "outputs": [],
   "source": [
    "t = ('a', 'b', 'c', 'd', 'e')"
   ]
  },
  {
   "cell_type": "code",
   "execution_count": 5,
   "id": "d64f1fd2",
   "metadata": {},
   "outputs": [],
   "source": [
    "t1 = ('a',)"
   ]
  },
  {
   "cell_type": "code",
   "execution_count": 6,
   "id": "1f22807b",
   "metadata": {},
   "outputs": [
    {
     "data": {
      "text/plain": [
       "tuple"
      ]
     },
     "execution_count": 6,
     "metadata": {},
     "output_type": "execute_result"
    }
   ],
   "source": [
    "type(t1)"
   ]
  },
  {
   "cell_type": "code",
   "execution_count": 9,
   "id": "9372f1f1",
   "metadata": {},
   "outputs": [
    {
     "name": "stdout",
     "output_type": "stream",
     "text": [
      "('l', 'u', 'p', 'i', 'n', 's')\n"
     ]
    }
   ],
   "source": [
    "t = tuple('lupins')\n",
    "print(t)"
   ]
  },
  {
   "cell_type": "code",
   "execution_count": 10,
   "id": "ffbf57e0",
   "metadata": {},
   "outputs": [
    {
     "data": {
      "text/plain": [
       "tuple"
      ]
     },
     "execution_count": 10,
     "metadata": {},
     "output_type": "execute_result"
    }
   ],
   "source": [
    "type(t)"
   ]
  },
  {
   "cell_type": "code",
   "execution_count": 11,
   "id": "68912098",
   "metadata": {},
   "outputs": [
    {
     "name": "stdout",
     "output_type": "stream",
     "text": [
      "p\n"
     ]
    }
   ],
   "source": [
    "print(t[2])"
   ]
  },
  {
   "cell_type": "markdown",
   "id": "62efedfc",
   "metadata": {},
   "source": [
    "# Comparing tuples"
   ]
  },
  {
   "cell_type": "code",
   "execution_count": 13,
   "id": "14241dae",
   "metadata": {},
   "outputs": [
    {
     "data": {
      "text/plain": [
       "False"
      ]
     },
     "execution_count": 13,
     "metadata": {},
     "output_type": "execute_result"
    }
   ],
   "source": [
    "(0, 4, 5) < (0, 3, 10)"
   ]
  },
  {
   "cell_type": "code",
   "execution_count": 7,
   "id": "6555f1b0",
   "metadata": {},
   "outputs": [
    {
     "data": {
      "text/plain": [
       "True"
      ]
     },
     "execution_count": 7,
     "metadata": {},
     "output_type": "execute_result"
    }
   ],
   "source": [
    "(0, 1, 2000000) < (0, 3, 4)"
   ]
  },
  {
   "cell_type": "code",
   "execution_count": 15,
   "id": "594c8ac2",
   "metadata": {},
   "outputs": [
    {
     "name": "stdout",
     "output_type": "stream",
     "text": [
      "['yonder', 'window', 'breaks', 'light', 'what', 'soft', 'but', 'in']\n"
     ]
    }
   ],
   "source": [
    "txt = 'but soft what light in yonder window breaks'\n",
    "words = txt.split()\n",
    "t = list()\n",
    "for word in words:\n",
    "    t.append((len(word), word))\n",
    "    t.sort(reverse=True)\n",
    "  \n",
    "res = list()\n",
    "\n",
    "for length, word in t:\n",
    "    res.append(word)\n",
    "print(res)"
   ]
  },
  {
   "cell_type": "markdown",
   "id": "6cf25203",
   "metadata": {},
   "source": [
    "#  Tuple assignment"
   ]
  },
  {
   "cell_type": "code",
   "execution_count": 16,
   "id": "7686bb16",
   "metadata": {},
   "outputs": [],
   "source": [
    "m = ['have', 'fun']"
   ]
  },
  {
   "cell_type": "code",
   "execution_count": 17,
   "id": "20a269d4",
   "metadata": {},
   "outputs": [],
   "source": [
    "x, y = m"
   ]
  },
  {
   "cell_type": "code",
   "execution_count": 18,
   "id": "5668add3",
   "metadata": {},
   "outputs": [
    {
     "data": {
      "text/plain": [
       "'have'"
      ]
     },
     "execution_count": 18,
     "metadata": {},
     "output_type": "execute_result"
    }
   ],
   "source": [
    "x"
   ]
  },
  {
   "cell_type": "code",
   "execution_count": 19,
   "id": "5550020f",
   "metadata": {},
   "outputs": [
    {
     "data": {
      "text/plain": [
       "'fun'"
      ]
     },
     "execution_count": 19,
     "metadata": {},
     "output_type": "execute_result"
    }
   ],
   "source": [
    "y"
   ]
  },
  {
   "cell_type": "code",
   "execution_count": 21,
   "id": "2c658cd7",
   "metadata": {},
   "outputs": [],
   "source": [
    "a, b = [1,2]"
   ]
  },
  {
   "cell_type": "code",
   "execution_count": 22,
   "id": "e9c88294",
   "metadata": {},
   "outputs": [
    {
     "data": {
      "text/plain": [
       "1"
      ]
     },
     "execution_count": 22,
     "metadata": {},
     "output_type": "execute_result"
    }
   ],
   "source": [
    "a"
   ]
  },
  {
   "cell_type": "code",
   "execution_count": 23,
   "id": "1770116c",
   "metadata": {},
   "outputs": [
    {
     "data": {
      "text/plain": [
       "2"
      ]
     },
     "execution_count": 23,
     "metadata": {},
     "output_type": "execute_result"
    }
   ],
   "source": [
    "b"
   ]
  },
  {
   "cell_type": "code",
   "execution_count": 24,
   "id": "970245b8",
   "metadata": {},
   "outputs": [],
   "source": [
    "a,b=b,a"
   ]
  },
  {
   "cell_type": "code",
   "execution_count": 25,
   "id": "83ba21f9",
   "metadata": {},
   "outputs": [
    {
     "data": {
      "text/plain": [
       "2"
      ]
     },
     "execution_count": 25,
     "metadata": {},
     "output_type": "execute_result"
    }
   ],
   "source": [
    "a"
   ]
  },
  {
   "cell_type": "code",
   "execution_count": 26,
   "id": "244a5bec",
   "metadata": {},
   "outputs": [
    {
     "data": {
      "text/plain": [
       "1"
      ]
     },
     "execution_count": 26,
     "metadata": {},
     "output_type": "execute_result"
    }
   ],
   "source": [
    "b"
   ]
  },
  {
   "cell_type": "code",
   "execution_count": 24,
   "id": "14d62fb9",
   "metadata": {},
   "outputs": [],
   "source": [
    "addr = 'monty@python.org'"
   ]
  },
  {
   "cell_type": "code",
   "execution_count": 25,
   "id": "49a10cad",
   "metadata": {},
   "outputs": [],
   "source": [
    "uname, domain = addr.split('@')"
   ]
  },
  {
   "cell_type": "code",
   "execution_count": 27,
   "id": "a1dda41b",
   "metadata": {},
   "outputs": [
    {
     "data": {
      "text/plain": [
       "'monty'"
      ]
     },
     "execution_count": 27,
     "metadata": {},
     "output_type": "execute_result"
    }
   ],
   "source": [
    "uname"
   ]
  },
  {
   "cell_type": "code",
   "execution_count": 28,
   "id": "0c2adcfc",
   "metadata": {},
   "outputs": [
    {
     "data": {
      "text/plain": [
       "'python.org'"
      ]
     },
     "execution_count": 28,
     "metadata": {},
     "output_type": "execute_result"
    }
   ],
   "source": [
    "domain"
   ]
  },
  {
   "cell_type": "markdown",
   "id": "d247f22c",
   "metadata": {},
   "source": [
    "#  Dictionaries and tuples"
   ]
  },
  {
   "cell_type": "code",
   "execution_count": 28,
   "id": "f85433eb",
   "metadata": {},
   "outputs": [],
   "source": [
    "d = {'b':1, 'a':10, 'c':22}"
   ]
  },
  {
   "cell_type": "code",
   "execution_count": 33,
   "id": "210f3787",
   "metadata": {},
   "outputs": [
    {
     "data": {
      "text/plain": [
       "dict_items([('b', 1), ('a', 10), ('c', 22)])"
      ]
     },
     "execution_count": 33,
     "metadata": {},
     "output_type": "execute_result"
    }
   ],
   "source": [
    "d.items()"
   ]
  },
  {
   "cell_type": "code",
   "execution_count": 30,
   "id": "e092c09d",
   "metadata": {},
   "outputs": [],
   "source": [
    "t = list(d.items())"
   ]
  },
  {
   "cell_type": "code",
   "execution_count": 31,
   "id": "c4272a5f",
   "metadata": {},
   "outputs": [
    {
     "name": "stdout",
     "output_type": "stream",
     "text": [
      "[('b', 1), ('a', 10), ('c', 22)]\n"
     ]
    }
   ],
   "source": [
    "print(t)"
   ]
  },
  {
   "cell_type": "code",
   "execution_count": 5,
   "id": "deca9174",
   "metadata": {},
   "outputs": [],
   "source": [
    "t.sort()"
   ]
  },
  {
   "cell_type": "code",
   "execution_count": 6,
   "id": "42606af9",
   "metadata": {},
   "outputs": [],
   "source": [
    "t = dict(t)"
   ]
  },
  {
   "cell_type": "code",
   "execution_count": 7,
   "id": "fed01c3d",
   "metadata": {},
   "outputs": [
    {
     "data": {
      "text/plain": [
       "{'a': 10, 'b': 1, 'c': 22}"
      ]
     },
     "execution_count": 7,
     "metadata": {},
     "output_type": "execute_result"
    }
   ],
   "source": [
    "t"
   ]
  },
  {
   "cell_type": "markdown",
   "id": "f62d1d0e",
   "metadata": {},
   "source": [
    "# Multiple assignment with dictionaries"
   ]
  },
  {
   "cell_type": "code",
   "execution_count": 13,
   "id": "a72deb67",
   "metadata": {},
   "outputs": [
    {
     "name": "stdout",
     "output_type": "stream",
     "text": [
      "10\ta\n",
      "1\tb\n",
      "22\tc\n"
     ]
    }
   ],
   "source": [
    "d = {'a':10, 'b':1, 'c':22}\n",
    "for key, val in list(d.items()):\n",
    "    print(f\"{val}\\t{key}\")"
   ]
  },
  {
   "cell_type": "code",
   "execution_count": 15,
   "id": "0ffdc61b",
   "metadata": {},
   "outputs": [
    {
     "name": "stdout",
     "output_type": "stream",
     "text": [
      "[(22, 'c'), (10, 'a'), (1, 'b')]\n"
     ]
    }
   ],
   "source": [
    "d = {'a':10, 'b':1, 'c':22}\n",
    "l = list()\n",
    "\n",
    "for key, value in list(d.items()):\n",
    "    l.append((value, key))\n",
    "\n",
    "l.sort(reverse=True)\n",
    "print(l)"
   ]
  },
  {
   "cell_type": "markdown",
   "id": "c5b3bece",
   "metadata": {},
   "source": [
    "# The most common words"
   ]
  },
  {
   "cell_type": "code",
   "execution_count": 35,
   "id": "0791ad2e",
   "metadata": {},
   "outputs": [
    {
     "name": "stdout",
     "output_type": "stream",
     "text": [
      "(61, 'i')\n",
      "(42, 'and')\n",
      "(40, 'romeo')\n",
      "(34, 'to')\n",
      "(34, 'the')\n",
      "(32, 'thou')\n",
      "(32, 'juliet')\n",
      "(30, 'that')\n",
      "(29, 'my')\n",
      "(24, 'thee')\n"
     ]
    }
   ],
   "source": [
    "import string\n",
    "\n",
    "fhand = open('romeo-full.txt')\n",
    "counts =dict()\n",
    "\n",
    "for line in fhand:\n",
    "    line = line.translate(str.maketrans('', '', string.punctuation))\n",
    "    line = line.lower()\n",
    "    words = line.split()\n",
    "    \n",
    "    for word in words:\n",
    "        counts[word] = counts.get(word, 0) + 1\n",
    "            \n",
    "# Sort the dictionary by value\n",
    "lst = list()\n",
    "for key, value in list(counts.items()):\n",
    "    lst.append((value, key))\n",
    "    \n",
    "lst.sort(reverse=True)\n",
    "\n",
    "for key, value in lst[:10]:\n",
    "    print((key, value))"
   ]
  },
  {
   "cell_type": "markdown",
   "id": "f272b8bf",
   "metadata": {},
   "source": [
    "#  Using tuples as keys in dictionaries"
   ]
  },
  {
   "cell_type": "code",
   "execution_count": null,
   "id": "09f37fe6",
   "metadata": {},
   "outputs": [],
   "source": []
  }
 ],
 "metadata": {
  "kernelspec": {
   "display_name": "Python 3 (ipykernel)",
   "language": "python",
   "name": "python3"
  },
  "language_info": {
   "codemirror_mode": {
    "name": "ipython",
    "version": 3
   },
   "file_extension": ".py",
   "mimetype": "text/x-python",
   "name": "python",
   "nbconvert_exporter": "python",
   "pygments_lexer": "ipython3",
   "version": "3.10.9"
  }
 },
 "nbformat": 4,
 "nbformat_minor": 5
}
